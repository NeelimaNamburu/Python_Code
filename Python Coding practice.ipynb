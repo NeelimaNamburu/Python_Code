{
 "cells": [
  {
   "cell_type": "code",
   "execution_count": 1,
   "metadata": {},
   "outputs": [
    {
     "name": "stdout",
     "output_type": "stream",
     "text": [
      "Hi\n"
     ]
    }
   ],
   "source": [
    "print('Hi')"
   ]
  },
  {
   "cell_type": "code",
   "execution_count": 7,
   "metadata": {},
   "outputs": [
    {
     "name": "stdout",
     "output_type": "stream",
     "text": [
      "Enter a number6\n",
      "a is not 4\n",
      "a is 6\n",
      "Outside\n"
     ]
    }
   ],
   "source": [
    "a=int(input('Enter a number'))\n",
    "if a==4:\n",
    "    print('Hi')\n",
    "    print('Inside')\n",
    "elif a<6:\n",
    "    print('a is 6')\n",
    "    print('I am inside elif')\n",
    "elif a==8:\n",
    "    print('Neelima')\n",
    "else:\n",
    "    print('a is not 4')\n",
    "    print('a is', a)\n",
    "    print('Outside')"
   ]
  },
  {
   "cell_type": "code",
   "execution_count": null,
   "metadata": {},
   "outputs": [],
   "source": [
    "a=int(input())\n",
    "if a>4:\n",
    "    if a<10:\n",
    "        print('a is greater than 4 and less than 10')\n",
    "        "
   ]
  },
  {
   "cell_type": "code",
   "execution_count": 13,
   "metadata": {},
   "outputs": [
    {
     "name": "stdout",
     "output_type": "stream",
     "text": [
      "Coding\n"
     ]
    }
   ],
   "source": [
    "if 5<10:\n",
    "    print('Coding')\n",
    "elif 8!=9:\n",
    "    print('Ninjas')\n",
    "else:\n",
    "    print('DSA')\n",
    "    "
   ]
  },
  {
   "cell_type": "code",
   "execution_count": null,
   "metadata": {},
   "outputs": [],
   "source": [
    "Take the lenght(l) and breadth(b) of the rectangle as input and find its area\n",
    "Lenght and breadth must be an integer value and the area will always be in range of integers.\n",
    "Input Format:\n",
    "    The first line of input contains two integers both seperated by a single space denoting the length and breadth respectvely\n",
    "Output Format:\n",
    "    The only line of output prints the area of the rectangle\n",
    "Constraints:\n",
    "    1 <=L, B <=10`2\n",
    "    Sample input 1\n",
    "    4,20\n",
    "    Sample output\n",
    "    80"
   ]
  },
  {
   "cell_type": "code",
   "execution_count": null,
   "metadata": {},
   "outputs": [],
   "source": [
    "length, breadth = input().split()\n",
    "length = int(length)\n",
    "breadth = int(breadth)\n",
    "area = lenght*breadth"
   ]
  },
  {
   "cell_type": "code",
   "execution_count": null,
   "metadata": {},
   "outputs": [],
   "source": []
  },
  {
   "cell_type": "code",
   "execution_count": null,
   "metadata": {},
   "outputs": [],
   "source": [
    "p=int(input())\n",
    "r=float(input())\n",
    "t=int(input())\n",
    "si=p*r*t//100\n",
    "print(int(si))"
   ]
  },
  {
   "cell_type": "markdown",
   "metadata": {},
   "source": [
    "# Take the persons name and age as input and print out the name and age as specified in the output format\n",
    "#Sample output 1\n",
    "#Name of the person is Neelima and age is 27\n",
    "#sample input 1\n",
    "#The input name is Neelima and the input age is 27 which is printed in the specified format"
   ]
  },
  {
   "cell_type": "code",
   "execution_count": 9,
   "metadata": {},
   "outputs": [
    {
     "name": "stdout",
     "output_type": "stream",
     "text": [
      "Neelima\n",
      "27\n",
      "The name of the person isthe age is27.\n"
     ]
    }
   ],
   "source": [
    "name = input()\n",
    "age = int(input())\n",
    "print('The name of the person is' ,name and 'the age is' ,age, '.' ,sep = '')"
   ]
  },
  {
   "cell_type": "markdown",
   "metadata": {},
   "source": [
    "# Take two numbers as input and swap them and print the swapped values \n",
    "#sample input \n",
    "2\n",
    "1 2\n",
    "3 4\n",
    "#Sample output\n",
    "2 1\n",
    "3 4"
   ]
  },
  {
   "cell_type": "code",
   "execution_count": 16,
   "metadata": {},
   "outputs": [
    {
     "name": "stdout",
     "output_type": "stream",
     "text": [
      "1\n",
      "2\n",
      "2\n"
     ]
    }
   ],
   "source": [
    "a = int(input())\n",
    "b = int(input())\n",
    "print(a and b)"
   ]
  },
  {
   "cell_type": "code",
   "execution_count": null,
   "metadata": {},
   "outputs": [],
   "source": []
  },
  {
   "cell_type": "code",
   "execution_count": null,
   "metadata": {},
   "outputs": [],
   "source": []
  }
 ],
 "metadata": {
  "kernelspec": {
   "display_name": "Python 3",
   "language": "python",
   "name": "python3"
  },
  "language_info": {
   "codemirror_mode": {
    "name": "ipython",
    "version": 3
   },
   "file_extension": ".py",
   "mimetype": "text/x-python",
   "name": "python",
   "nbconvert_exporter": "python",
   "pygments_lexer": "ipython3",
   "version": "3.8.3"
  }
 },
 "nbformat": 4,
 "nbformat_minor": 4
}
